{
  "nbformat": 4,
  "nbformat_minor": 0,
  "metadata": {
    "colab": {
      "provenance": [],
      "include_colab_link": true
    },
    "kernelspec": {
      "name": "python3",
      "display_name": "Python 3"
    },
    "language_info": {
      "name": "python"
    }
  },
  "cells": [
    {
      "cell_type": "markdown",
      "metadata": {
        "id": "view-in-github",
        "colab_type": "text"
      },
      "source": [
        "<a href=\"https://colab.research.google.com/github/PranavSingla122/Age-Predictor/blob/main/Agepredictor.ipynb\" target=\"_parent\"><img src=\"https://colab.research.google.com/assets/colab-badge.svg\" alt=\"Open In Colab\"/></a>"
      ]
    },
    {
      "cell_type": "code",
      "execution_count": null,
      "metadata": {
        "colab": {
          "base_uri": "https://localhost:8080/"
        },
        "id": "sOp_HDe5GeRJ",
        "outputId": "16b0c391-9094-4d31-9cbd-f3a260761a7d"
      },
      "outputs": [
        {
          "output_type": "stream",
          "name": "stdout",
          "text": [
            "Drive already mounted at /content/drive; to attempt to forcibly remount, call drive.mount(\"/content/drive\", force_remount=True).\n"
          ]
        }
      ],
      "source": [
        "from google.colab import drive\n",
        "import pandas as pd\n",
        "\n",
        "drive.mount('/content/drive')\n",
        "file_path = '/content/drive/MyDrive/Train.csv'\n",
        "df = pd.read_csv(file_path)\n",
        "\n",
        "\n",
        "\n",
        "#DATA SET\n",
        "#https://www.kaggle.com/datasets/abdullah0a/human-age-prediction-synthetic-dataset/data?select=Train.csv"
      ]
    },
    {
      "cell_type": "code",
      "source": [
        "#TRAINING\n",
        "\n",
        "\n",
        "import pandas as pd\n",
        "from sklearn.model_selection import train_test_split\n",
        "from sklearn.preprocessing import StandardScaler, OneHotEncoder\n",
        "from sklearn.compose import ColumnTransformer\n",
        "from tensorflow.keras.models import Sequential\n",
        "from tensorflow.keras.layers import Dense\n",
        "\n",
        "data = pd.read_csv('Train.csv')\n",
        "\n",
        "# Split 'Blood Pressure (s/d)' into two columns: Systolic and Diastolic\n",
        "data[['Systolic Pressure', 'Diastolic Pressure']] = data['Blood Pressure (s/d)'].str.split('/', expand=True).astype(float)\n",
        "data = data.drop(columns=['Blood Pressure (s/d)'])\n",
        "\n",
        "# Split features and target\n",
        "X = data.drop(columns=['Age (years)'])\n",
        "y = data['Age (years)']\n",
        "\n",
        "# Define categorical and numerical columns\n",
        "categorical_columns = ['Gender', 'Smoking Status', 'Alcohol Consumption', 'Diet',\n",
        "                       'Chronic Diseases', 'Medication Use', 'Family History',\n",
        "                       'Mental Health Status', 'Sleep Patterns', 'Education Level',\n",
        "                       'Income Level', 'Physical Activity Level']  # Include Physical Activity\n",
        "\n",
        "numerical_columns = X.columns.difference(categorical_columns)\n",
        "\n",
        "# Split data into training and test sets\n",
        "X_train, X_test, y_train, y_test = train_test_split(X, y, test_size=0.2, random_state=42)\n",
        "\n",
        "# Create a ColumnTransformer for preprocessing both numerical and categorical data\n",
        "preprocessor = ColumnTransformer(\n",
        "    transformers=[\n",
        "        ('num', StandardScaler(), numerical_columns),  # Scale numerical columns\n",
        "        ('cat', OneHotEncoder(), categorical_columns)  # One-hot encode categorical columns\n",
        "    ])\n",
        "\n",
        "# Preprocess the data\n",
        "X_train_preprocessed = preprocessor.fit_transform(X_train)\n",
        "X_test_preprocessed = preprocessor.transform(X_test)\n",
        "\n",
        "# Define the neural network model\n",
        "model = Sequential()\n",
        "\n",
        "# Add layers\n",
        "model.add(Dense(64, input_dim=X_train_preprocessed.shape[1], activation='relu'))  # Input layer\n",
        "model.add(Dense(32, activation='relu'))  # Hidden layer\n",
        "model.add(Dense(1))  # Output layer (for regression, predicting a single value)\n",
        "\n",
        "# Compile the model\n",
        "model.compile(optimizer='adam', loss='mean_squared_error')\n",
        "\n",
        "# Train the model\n",
        "history = model.fit(X_train_preprocessed, y_train, epochs=50, batch_size=32, validation_split=0.2, verbose=1)\n",
        "\n",
        "# Evaluate the model on the test set\n",
        "test_loss = model.evaluate(X_test_preprocessed, y_test)\n",
        "print(f\"Test Loss: {test_loss}\")\n",
        "\n",
        "# Make predictions on the test set\n",
        "predictions = model.predict(X_test_preprocessed)\n"
      ],
      "metadata": {
        "id": "WG-CYu9NKS90"
      },
      "execution_count": null,
      "outputs": []
    },
    {
      "cell_type": "code",
      "source": [
        "#TESTING\n",
        "\n",
        "\n",
        "import pandas as pd\n",
        "import numpy as np\n",
        "\n",
        "# Load new data\n",
        "new_data = pd.read_csv('Test.csv')\n",
        "\n",
        "# Ensure new data has the same structure as training data\n",
        "new_data[['Systolic Pressure', 'Diastolic Pressure']] = new_data['Blood Pressure (s/d)'].str.split('/', expand=True).astype(float)\n",
        "new_data = new_data.drop(columns=['Blood Pressure (s/d)'])\n",
        "\n",
        "# Extract features (same as training features)\n",
        "X_new = new_data\n",
        "\n",
        "# Preprocess the new data\n",
        "X_new_preprocessed = preprocessor.transform(X_new)\n",
        "\n",
        "# Make predictions\n",
        "predictions = model.predict(X_new_preprocessed)\n",
        "\n",
        "# Convert predictions to integer part only\n",
        "predictions_int = np.floor(predictions).astype(int)\n",
        "\n",
        "# Add the integer predictions as a new column to the new_data DataFrame\n",
        "new_data['Age'] = predictions_int\n",
        "\n",
        "# Create a DataFrame with Gender and Age columns\n",
        "# Assuming 'Gender' is a column in the original 'new_data'\n",
        "result_df = new_data[['Gender', 'Age']]\n",
        "\n",
        "# Set pandas display options to show all rows\n",
        "pd.set_option('display.max_rows', None)\n",
        "\n",
        "# Print the resulting DataFrame\n",
        "print(result_df)\n",
        "\n",
        "# Optionally reset the display option to default if needed later\n",
        "pd.reset_option('display.max_rows')\n"
      ],
      "metadata": {
        "id": "ZXIEELJkXPre"
      },
      "execution_count": null,
      "outputs": []
    }
  ]
}